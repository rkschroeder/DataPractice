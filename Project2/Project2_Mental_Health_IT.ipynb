{
 "cells": [
  {
   "cell_type": "markdown",
   "metadata": {},
   "source": [
    "# Project 2: Analyzing Mental Health in the IT sector"
   ]
  },
  {
   "cell_type": "markdown",
   "metadata": {},
   "source": [
    "This project explores mental health issues within the IT sector, using data from a survey conducted by [Open Source Mental Illness (OSMI)](https://osmihelp.org/) between 2014 and 2017. The survey examines attitudes towards mental health and the prevalence of mental health disorders in the IT field. A SQLite database containing this data is [available online](https://www.kaggle.com/datasets/anth7310/mental-health-in-the-tech-industry/data) and will be utilized in the project. Additionally, I formulate the following questions to answer based on the data:\n",
    "\n",
    "1. Is there a relationship between gender and being diagnosed with a mental health disorder in the IT sector, based on survey data?\n",
    "2. Does age correlate with seeking professional treatment for mental health issues?\n",
    "3. Is there a connection between openess about mental health between employees from different countries?\n",
    "4. How do mental health conditions affect productivity the IT field?"
   ]
  },
  {
   "cell_type": "markdown",
   "metadata": {},
   "source": [
    "# Connecting to the database "
   ]
  },
  {
   "cell_type": "code",
   "execution_count": 1,
   "metadata": {},
   "outputs": [],
   "source": [
    "import sqlite3\n",
    "import pandas as pd \n",
    "\n",
    "conn = sqlite3.connect('mental_health.sqlite')\n"
   ]
  },
  {
   "cell_type": "markdown",
   "metadata": {},
   "source": [
    "Checking the names of the tables in the database"
   ]
  },
  {
   "cell_type": "code",
   "execution_count": null,
   "metadata": {},
   "outputs": [],
   "source": [
    "# Create a cursor object\n",
    "cursor = conn.cursor()\n",
    "cursor.execute(\"SELECT name FROM sqlite_master WHERE type='table';\")\n",
    "\n",
    "tables = cursor.fetchall()\n",
    "for table in tables:\n",
    "    table_name = table[0]  # Extract the table name \n",
    "    print(f\" {table_name}\")\n"
   ]
  },
  {
   "cell_type": "code",
   "execution_count": null,
   "metadata": {},
   "outputs": [],
   "source": [
    "query = \"SELECT * FROM Answer;\"\n",
    "df = pd.read_sql_query(query, conn)\n",
    "display(df.head())\n"
   ]
  },
  {
   "cell_type": "markdown",
   "metadata": {},
   "source": [
    "Checking the answers in the column 'AnswerText'"
   ]
  },
  {
   "cell_type": "code",
   "execution_count": null,
   "metadata": {},
   "outputs": [],
   "source": [
    "print(df['AnswerText'].unique)\n"
   ]
  },
  {
   "cell_type": "markdown",
   "metadata": {},
   "source": [
    "As the responses contain both numerical data (such as age and grade) and descriptive answers (such as Yes, No, Sometimes, Unsure), I will focus only on the data relevant to the questions I need to answer. For each question, I will inspect the AnswerText to identify the types of responses. After that, I will clean the data and remove Entries that are NaN, negative, or otherwise irrelevant."
   ]
  },
  {
   "cell_type": "markdown",
   "metadata": {},
   "source": [
    "I will also check the number of answers in each year"
   ]
  },
  {
   "cell_type": "code",
   "execution_count": null,
   "metadata": {},
   "outputs": [],
   "source": [
    "import matplotlib.pyplot as plt  \n",
    "import seaborn as sns\n",
    "import warnings\n",
    "\n",
    "warnings.simplefilter(action='ignore', category=FutureWarning)\n",
    "\n",
    "# Count the number of answers for each year\n",
    "answer_counts = df.groupby('SurveyID').size().reset_index(name='Count')\n",
    "\n",
    "# Plot\n",
    "sns.barplot(data=answer_counts, x='SurveyID', y='Count', palette='viridis')\n",
    "plt.title('Number of Answers per Year',fontsize=14,weight='bold')\n",
    "plt.xlabel('Year')\n",
    "plt.ylabel('Number of Answers')\n",
    "plt.xticks(rotation=0)\n",
    "plt.show()"
   ]
  },
  {
   "cell_type": "markdown",
   "metadata": {},
   "source": [
    "As shown in the figure above, the 2016 survey collected the highest number of answers. Therefore, I will focus my analysis on this year. It is worth noting that the 2015 survey is missing from the database. The reason for this is unclear, as I was not involved in its development."
   ]
  },
  {
   "cell_type": "markdown",
   "metadata": {},
   "source": [
    "Now that I have a better understanding of the data, I will join the Answer and Question tables. This will make it easier to visualize both the questions and answers. "
   ]
  },
  {
   "cell_type": "code",
   "execution_count": null,
   "metadata": {},
   "outputs": [],
   "source": [
    "def query_join_tables(conn):\n",
    "    query = \"\"\"\n",
    "            SELECT q.QuestionID, q.QuestionText,  a.AnswerText,a.UserID, a.SurveyID\n",
    "            FROM Question AS q\n",
    "            RIGHT JOIN Answer AS a ON q.QuestionID = a.QuestionID\n",
    "            WHERE a.SurveyID = 2016\n",
    "            \"\"\"\n",
    "    return pd.read_sql_query(query,conn)\n",
    "\n",
    "df_join_tables=query_join_tables(conn)\n",
    "display(df_join_tables.head(5))"
   ]
  },
  {
   "cell_type": "markdown",
   "metadata": {},
   "source": [
    "In the sequel, I will check the questions of the surveys. "
   ]
  },
  {
   "cell_type": "code",
   "execution_count": null,
   "metadata": {},
   "outputs": [],
   "source": [
    "print(df_join_tables[['questiontext', 'questionid']].drop_duplicates())"
   ]
  },
  {
   "cell_type": "markdown",
   "metadata": {},
   "source": [
    "The methodology adopted to answer the questions is outlined as follows: first, read and understand the question; next, review the list of questions to identify the relevant ones; then, extract the necessary data, clean it, create visualizations, and, finally, draw conclusions."
   ]
  },
  {
   "cell_type": "markdown",
   "metadata": {},
   "source": [
    "# 1. Is there a relationship between gender and being diagnosed with a mental health disorder in the IT sector, based on survey data?"
   ]
  },
  {
   "cell_type": "markdown",
   "metadata": {},
   "source": [
    "This analysis aims to examine the connection between gender and mental health diagnoses within the IT industry. Specifically, I seek to understand whether certain genders are more likely to experience mental health challenges."
   ]
  },
  {
   "cell_type": "code",
   "execution_count": null,
   "metadata": {},
   "outputs": [],
   "source": [
    "#'What is your gender? questionid?==2'\n",
    "display(df_join_tables[df_join_tables['questionid'] == 2]['AnswerText'].unique())\n"
   ]
  },
  {
   "cell_type": "markdown",
   "metadata": {},
   "source": [
    "To simplify my analyis, I will group the genders in tree majority groups (female, male, others)"
   ]
  },
  {
   "cell_type": "code",
   "execution_count": null,
   "metadata": {},
   "outputs": [],
   "source": [
    "#'What is your gender? questionid?==2'\n",
    "df_filtered = df_join_tables[\n",
    "    (df_join_tables['questionid'] == 2)\n",
    "][['questionid', 'questiontext', 'AnswerText', 'UserID']]\n",
    "df_filtered['AnswerText'] = df_filtered['AnswerText'].apply(lambda x: x if x in ['Male', 'Female'] else 'Other')\n",
    "\n",
    "# I will modify the terminology a bit\n",
    "df_filtered['AnswerText'] = df_filtered['AnswerText'].apply(\n",
    "    lambda x: 'Men' if x == 'Male' else 'Women' if x == 'Female' else 'Other'\n",
    ")\n",
    "\n",
    "#'Have you ever been diagnosed with a mental health disorder? questionid==34'\n",
    "# I filtered the answers for Yes or No \n",
    "df_filtered2 = df_join_tables[\n",
    "    (df_join_tables['questionid'] == 34) & \n",
    "    (df_join_tables['AnswerText'].isin(['Yes', 'No'])) \n",
    "][['questionid', 'questiontext', 'AnswerText', 'UserID']]\n",
    "\n",
    "# I merged the data based on the UserID \n",
    "df_merged = pd.merge(df_filtered, df_filtered2, on='UserID', suffixes=('_gender', '_mental_health'))\n",
    "\n",
    "display(df_merged.head())"
   ]
  },
  {
   "cell_type": "code",
   "execution_count": null,
   "metadata": {},
   "outputs": [],
   "source": [
    "# Analyze the relationship by grouping by gender and mental health diagnosis\n",
    "relationship = df_merged.groupby(['AnswerText_gender', 'AnswerText_mental_health']).size().reset_index(name='Count')\n",
    "\n",
    "#Sort in ascending order\n",
    "relationship = relationship.sort_values(by=\"Count\", ascending=True)\n",
    "\n",
    "# Create the plot\n",
    "plt.figure(figsize=(10, 6))  \n",
    "ax = sns.barplot(\n",
    "    x='AnswerText_gender', \n",
    "    y=\"Count\", \n",
    "    data=relationship, \n",
    "    hue='AnswerText_mental_health',  \n",
    "    palette='viridis', \n",
    "    width=0.4\n",
    ")\n",
    "\n",
    "# Add title and labels\n",
    "legend = ax.legend(title=\"Mental Health Diagnosis\", title_fontsize=12, fontsize=10, loc='upper left', frameon=True)\n",
    "legend.get_frame().set_edgecolor('black')\n",
    "ax.set_title(\"Relationship Between Gender and Mental Health Disorder Diagnosis\",fontsize=14, weight='bold')\n",
    "ax.set_xlabel(\"Gender\")\n",
    "ax.set_ylabel(\"Number of answers\")\n",
    "plt.show()\n",
    "\n"
   ]
  },
  {
   "cell_type": "markdown",
   "metadata": {},
   "source": [
    "The figure above indicates that the majority of participants in the survey were men, followed by women and other genders. It shows that more women reported having a mental health diagnosis compared to those without, which is also the case for other genders. In contrast, men predominantly reported not having a mental health diagnosis. "
   ]
  },
  {
   "cell_type": "markdown",
   "metadata": {},
   "source": [
    "# 2. Does age correlate with seeking professional treatment for mental health issues?\n"
   ]
  },
  {
   "cell_type": "markdown",
   "metadata": {},
   "source": [
    "The second part of this project studies how age correlates with seeking professional treatment for mental health issues. This could inform organizations about how to approach mental health support across different age groups."
   ]
  },
  {
   "cell_type": "code",
   "execution_count": null,
   "metadata": {},
   "outputs": [],
   "source": [
    "# First, let's filter the data that we need to answer this questions\n",
    "#  What is your age?, questionid=1\n",
    "df_filtered_age = df_join_tables[\n",
    "    (df_join_tables['questionid'] == 1)][['questionid', 'questiontext', 'AnswerText', 'UserID']]\n",
    "\n",
    "\n",
    "# Now filter the data for questionid == 7\n",
    "# Have you ever sought treatment for a mental health issue from a mental health professional?\n",
    "# Let's check the answers for this question\n",
    "print(df_join_tables[df_join_tables['questionid'] == 7]['AnswerText'].unique())\n",
    "\n"
   ]
  },
  {
   "cell_type": "code",
   "execution_count": null,
   "metadata": {},
   "outputs": [],
   "source": [
    "# Filter the relevant data\n",
    "df_filtered_treatment = df_join_tables[\n",
    "    (df_join_tables['questionid'] == 7)\n",
    "][['questionid', 'questiontext', 'AnswerText', 'UserID']]\n",
    "\n",
    "# Map the 'AnswerText' column to 'Yes' for '1' and 'No' for '0' in the filtered data\n",
    "df_filtered_treatment['AnswerText'] = df_filtered_treatment['AnswerText'].map({'1': 'Yes', '0': 'No'})\n",
    "\n",
    "# Merge the data based on 'UserID'\n",
    "df_merged_2 = pd.merge(df_filtered_age, df_filtered_treatment, on='UserID', suffixes=('_age', '_treatment'))\n",
    "\n",
    "# Check the result\n",
    "print(df_merged_2.head())\n"
   ]
  },
  {
   "cell_type": "code",
   "execution_count": null,
   "metadata": {},
   "outputs": [],
   "source": [
    "# I will group the data by age groups\n",
    "df_merged_2['AnswerText_age'] = pd.to_numeric(df_merged_2['AnswerText_age'], errors='coerce')\n",
    "\n",
    "# Now apply the binning\n",
    "bins = [18, 30, 40, 50, 60, 70]\n",
    "labels = ['18-29', '30-39', '40-49', '50-59', '60-69']\n",
    "df_merged_2['agerange'] = pd.cut(df_merged_2['AnswerText_age'], bins, labels=labels, include_lowest=True)\n",
    "\n",
    "# Check the result\n",
    "display(df_merged_2[['AnswerText_age', 'agerange']].head())"
   ]
  },
  {
   "cell_type": "code",
   "execution_count": null,
   "metadata": {},
   "outputs": [],
   "source": [
    "#Count of number of people by age group that answer Yes or No to the question about mental health treatment\n",
    "age_group_treatment_count = df_merged_2.groupby('agerange')['AnswerText_treatment'].value_counts().unstack(fill_value=0)\n",
    "age_group_treatment_count['Total'] = age_group_treatment_count.sum(axis=1)\n",
    "\n",
    "print(\"Treatment Counts by Age Group:\")\n",
    "display(age_group_treatment_count)"
   ]
  },
  {
   "cell_type": "markdown",
   "metadata": {},
   "source": [
    "As shown in the dataframe above, the 60-69 age group has a small number of answers (only 10), while the 18-29 and 30-39 age groups have the highest number of answers. Next, I will analyze the answers in terms of percentage"
   ]
  },
  {
   "cell_type": "code",
   "execution_count": null,
   "metadata": {},
   "outputs": [],
   "source": [
    "#Here we will use a similar function, but this time I will compute the percentages\n",
    "age_group_treatment = df_merged_2.groupby('agerange')['AnswerText_treatment'].value_counts(normalize=True).unstack(fill_value=0)\n",
    "age_group_treatment_percentage = age_group_treatment * 100\n",
    "\n",
    "#Plot\n",
    "palette = sns.color_palette('viridis_r')\n",
    "age_group_treatment_percentage.plot(kind='bar', stacked=True, color=palette, figsize=(10, 6))\n",
    "plt.title('Percentage of Treatment Seekers by Age Group',fontsize=14, weight='bold')\n",
    "plt.xlabel('Age Group')\n",
    "plt.ylabel('Percentage (%)')\n",
    "plt.xticks(rotation=0)\n",
    "plt.legend(['Did Not Seek Treatment', 'Sought Treatment'], loc='upper left', bbox_to_anchor=(1, 1))\n",
    "plt.show()"
   ]
  },
  {
   "cell_type": "markdown",
   "metadata": {},
   "source": [
    "Given that the 18-29 and 30-39 age groups have the highest number of responses, I will focus my analysis on these groups. The figure shows that a larger proportion of people in both age groups sought treatment for mental health issues. Unfortunately, the small number of answers in the other age groups may impact the reliability of my analysis, so I will exclude them."
   ]
  },
  {
   "cell_type": "markdown",
   "metadata": {},
   "source": [
    "# 3. Is there a significant difference in mental health challenges between employees from different countries or cultures?"
   ]
  },
  {
   "cell_type": "markdown",
   "metadata": {},
   "source": [
    "Next, I examine the relationship between openness about mental health across different countries or cultures. Mental health awareness and attitudes vary globally, and cultural norms often influence how individuals approach mental health. By analyzing data from employees in different countries, the aim is to understand whether employees from certain cultures are more or less likely to discuss mental health openly."
   ]
  },
  {
   "cell_type": "code",
   "execution_count": null,
   "metadata": {},
   "outputs": [],
   "source": [
    "# Which country do you live in? questionid==3\n",
    "df_filtered_country= df_join_tables[\n",
    "(df_join_tables['questionid'] == 3)][['questionid', 'questiontext', 'AnswerText', 'UserID']]\n",
    "\n",
    "# I will investigate the openess of the participants based on question 18\n",
    "# Set option to display all columns and rows without truncation\n",
    "pd.set_option('display.max_colwidth', None)  # No truncation for column content\n",
    "\n",
    "# Print the specific row with questionid == 18\n",
    "print(df_join_tables[df_join_tables['questionid'] == 18][['questionid', 'questiontext']].iloc[0])\n",
    "\n",
    "# This questions asks the participants feel comfortable discussion mental health issues with co-workers\n",
    "# I will use the term 'openness' to refer to this question.\n",
    "df_filtered_openess = df_join_tables[\n",
    "(df_join_tables['questionid'] == 18)& \n",
    "    (df_join_tables['AnswerText'].isin(['Yes', 'No', 'Maybe'])) \n",
    "][['questionid', 'questiontext', 'AnswerText', 'UserID']]\n",
    "\n",
    "df_merged_3 = pd.merge(df_filtered_country, df_filtered_openess, on='UserID', suffixes=('_country', '_openess'))\n",
    "relationship_3 = df_merged_3.groupby(['AnswerText_country', 'AnswerText_openess']).size().reset_index(name='Count')\n"
   ]
  },
  {
   "cell_type": "code",
   "execution_count": 20,
   "metadata": {},
   "outputs": [],
   "source": [
    "# Grouping by 'AnswerText_country' and summing the counts\n",
    "top_countries = relationship_3.groupby('AnswerText_country')['Count'].sum().sort_values(ascending=False).head(5)\n",
    "\n",
    "# Now filter the relationship_3 dataframe for these top 5 countries\n",
    "top_countries_data = relationship_3[relationship_3['AnswerText_country'].isin(top_countries.index)]\n",
    "\n",
    "# Replace United Kingdom -> UK, United States of America -> USA\n",
    "top_countries_data.loc[top_countries_data['AnswerText_country'] == 'United Kingdom', 'AnswerText_country'] = 'UK'\n",
    "top_countries_data.loc[top_countries_data['AnswerText_country'] == 'United States of America', 'AnswerText_country'] = 'USA'\n",
    "pivot_top_countries = top_countries_data.pivot(index='AnswerText_country', columns='AnswerText_openess', values='Count')\n"
   ]
  },
  {
   "cell_type": "code",
   "execution_count": null,
   "metadata": {},
   "outputs": [],
   "source": [
    "total_counts = pivot_top_countries.sum(axis=1)\n",
    "# Sort in ascending order for better readbility \n",
    "total_counts_sorted = total_counts.sort_values(ascending=True)\n",
    "\n",
    "# Plotting the total counts for each country in a separate bar chart\n",
    "plt.figure(figsize=(10, 6))\n",
    "sns.barplot(x=total_counts_sorted.index, y=total_counts_sorted.values, palette='viridis_r',width=0.4)\n",
    "plt.title('Total Number of Answers for Top 5 Countries', fontsize=14, weight='bold')\n",
    "plt.xlabel('Country', fontsize=14)\n",
    "plt.ylabel('Total Number of Answers', fontsize=14)\n",
    "plt.xticks(rotation=0, ha='left', fontsize=12)\n",
    "plt.show()"
   ]
  },
  {
   "cell_type": "markdown",
   "metadata": {},
   "source": [
    "We can see that the answers of the survey are dominated by USA, followed by UK and Canada. "
   ]
  },
  {
   "cell_type": "code",
   "execution_count": null,
   "metadata": {},
   "outputs": [],
   "source": [
    "fig, axes = plt.subplots(1, 5, figsize=(20, 6))\n",
    "\n",
    "# List to store colors and labels for the combined legend\n",
    "legend_labels = pivot_top_countries.columns\n",
    "legend_colors = sns.color_palette(\"crest\", len(legend_labels))\n",
    "\n",
    "for i, country in enumerate(pivot_top_countries.index):\n",
    "    country_data = pivot_top_countries.loc[country]\n",
    "    \n",
    "    # Plot the pie chart for each country\n",
    "    # 'autopct='%1.1f%%'' calculates and displays the percentage of each slice of the pie\n",
    "    #  with one decimal place\n",
    "    wedges, texts, autotexts = axes[i].pie(\n",
    "        country_data, \n",
    "        autopct='%1.1f%%', \n",
    "        startangle=90, \n",
    "        colors=sns.color_palette(\"crest\", len(country_data))\n",
    "    )\n",
    "    \n",
    "    # Set the text color to white for better readbility \n",
    "    for autotext in autotexts:\n",
    "        autotext.set_color('white')\n",
    "        autotext.set_fontsize(14) \n",
    "    \n",
    "    # Add the title for each country or subplot\n",
    "    axes[i].set_title(country, fontsize=14)\n",
    "\n",
    "# Add a single legend for all pie charts (Yes, No, Maybe)\n",
    "fig.legend(\n",
    "    legend_labels, \n",
    "    loc=\"upper right\", \n",
    "    fontsize=14, \n",
    "    ncol=len(legend_labels), \n",
    "    title='Answers',\n",
    "    title_fontsize=14  \n",
    ")\n",
    "\n",
    "# Set the main title for the entire plot\n",
    "plt.suptitle('Openness about mental health in the top 5 countries', fontsize=18, weight='bold', ha='center')\n",
    "plt.tight_layout()\n",
    "plt.show()"
   ]
  },
  {
   "cell_type": "markdown",
   "metadata": {},
   "source": [
    "Overall, the responses indicate that participants do not feel comfortable sharing mental health issues with co-workers, as the percentage of \"maybe\" or \"no\" answers is larger than that of \"yes.\" The exception is the Netherlands, where the percentages of \"maybe\" and \"yes\" responses are equal. However, the smaller number of responses from the Netherlands may limit the analysis. "
   ]
  },
  {
   "cell_type": "markdown",
   "metadata": {},
   "source": [
    "# 4. How do different medical conditions impact career performance in the IT field?"
   ]
  },
  {
   "cell_type": "markdown",
   "metadata": {},
   "source": [
    "Next, I focus on understanding how various mental health conditions affect employees' career progress. I also examines whether specific conditions lead to particular challenges for IT professionals in terms of performance.\n",
    "\n",
    "\n",
    "\n",
    "\n",
    "\n",
    "\n"
   ]
  },
  {
   "cell_type": "code",
   "execution_count": null,
   "metadata": {},
   "outputs": [],
   "source": [
    "#Filter data to answer the question\n",
    "\n",
    "# If yes, what condition(s) have you been diagnosed? questionid=115\n",
    "df_filtered_condition = df_join_tables[\n",
    "    (df_join_tables['questionid'] == 115)\n",
    "][['questionid', 'questiontext', 'AnswerText', 'UserID']]\n",
    "\n",
    "display(df_filtered_condition.head())"
   ]
  },
  {
   "cell_type": "code",
   "execution_count": 24,
   "metadata": {},
   "outputs": [],
   "source": [
    "df_filtered_condition = df_filtered_condition[df_filtered_condition['AnswerText'] != '-1']"
   ]
  },
  {
   "cell_type": "code",
   "execution_count": null,
   "metadata": {},
   "outputs": [],
   "source": [
    "# How has it affected your career? question id=54\n",
    "df_filtered_effect_career = df_join_tables[\n",
    "    (df_join_tables['questionid'] == 54)][['questionid', 'questiontext', 'AnswerText', 'UserID']]\n",
    "\n",
    "display(df_filtered_effect_career.head())"
   ]
  },
  {
   "cell_type": "code",
   "execution_count": null,
   "metadata": {},
   "outputs": [],
   "source": [
    "df_filtered_effect_career = df_filtered_effect_career[df_filtered_effect_career['AnswerText'] != '-1']\n",
    "display(df_filtered_effect_career.head())\n"
   ]
  },
  {
   "cell_type": "code",
   "execution_count": null,
   "metadata": {},
   "outputs": [],
   "source": [
    "df_merged_4 = pd.merge(df_filtered_effect_career, df_filtered_condition, on='UserID', suffixes=('_prod', '_condition'))\n",
    "display(df_merged_4.head())"
   ]
  },
  {
   "cell_type": "code",
   "execution_count": null,
   "metadata": {},
   "outputs": [],
   "source": [
    "display(df_merged_4['AnswerText_condition'].unique)"
   ]
  },
  {
   "cell_type": "code",
   "execution_count": null,
   "metadata": {},
   "outputs": [],
   "source": [
    "df_merged_4['GroupedCondition'] = df_merged_4['AnswerText_condition'].str.extract(r\"^([\\w\\s]+ Disorder)\")\n",
    "\n",
    "# Check the number of NaN values in the column\n",
    "print(f\"Number of NaN values in 'GroupedCondition': {df_merged_4['GroupedCondition'].isna().sum()}\")\n"
   ]
  },
  {
   "cell_type": "code",
   "execution_count": null,
   "metadata": {},
   "outputs": [],
   "source": [
    "#Drop NaN rows \n",
    "df_merged_4 = df_merged_4.dropna(subset=['GroupedCondition'])\n",
    "print(f\"Number of NaN values in 'GroupedCondition': {df_merged_4['GroupedCondition'].isna().sum()}\")\n"
   ]
  },
  {
   "cell_type": "code",
   "execution_count": null,
   "metadata": {},
   "outputs": [],
   "source": [
    "display(df_merged_4.head())"
   ]
  },
  {
   "cell_type": "code",
   "execution_count": 32,
   "metadata": {},
   "outputs": [],
   "source": [
    "\n",
    "disorder_productivity = df_merged_4.groupby(['GroupedCondition', 'AnswerText_prod']).size().reset_index(name='Count')\n",
    "\n",
    "# Calculate the total count for each condition and filter the top 3\n",
    "top_conditions = disorder_productivity.groupby('GroupedCondition')['Count'].sum().nlargest(3).index\n",
    "top_disorder_productivity = disorder_productivity[disorder_productivity['GroupedCondition'].isin(top_conditions)]\n",
    "top_disorder_productivity.loc[top_disorder_productivity['GroupedCondition'] == 'Attention Deficit Hyperactivity Disorder', 'GroupedCondition'] = 'ADHD'"
   ]
  },
  {
   "cell_type": "code",
   "execution_count": null,
   "metadata": {},
   "outputs": [],
   "source": [
    "# Plot\n",
    "plt.figure(figsize=(10, 6))\n",
    "sns.barplot(\n",
    "    data=top_disorder_productivity,\n",
    "    x='GroupedCondition',\n",
    "    y='Count',\n",
    "    hue='AnswerText_prod',\n",
    "    palette='viridis_r'\n",
    ")\n",
    "\n",
    "# Customize the plot\n",
    "plt.title('Productivity Question Answers for Top 3 Conditions', fontsize=14, weight='bold')\n",
    "plt.xlabel('Disorder', fontsize=12)\n",
    "plt.ylabel('Number of Answers', fontsize=12)\n",
    "plt.xticks(rotation=0, ha='left', fontsize=10)\n",
    "plt.legend(title='Productivity Answer', fontsize=10)\n",
    "plt.show()"
   ]
  },
  {
   "cell_type": "markdown",
   "metadata": {},
   "source": [
    "Based on the high number of positive answers, we can see that participants strongly feel that their conditions (anxiety, ADHD, and mood disorders) affect their productivity at work."
   ]
  },
  {
   "cell_type": "markdown",
   "metadata": {},
   "source": [
    "# Conclusions "
   ]
  },
  {
   "cell_type": "markdown",
   "metadata": {},
   "source": [
    "This project was an interesting opportunity to practice my skills in data visualization, manipulation, and analysis. However, I felt that the small number of responses from the groups I was interested in may have limited the depth of the analysis. In addition, there were some issues with the answers. For example, many responses related to the disorders were quite similar, making it challenging to define the best way to group them. The gender options included a long list, and the answers to question 3 included '1' and '0,' whereas I was expecting \"yes\" or \"no.\"\n",
    "\n",
    "To improve the analysis in future projects, it would be helpful to gather responses from a larger, more specific group and standardize answer formats, especially for yes/no questions, to reduce ambiguity. "
   ]
  },
  {
   "cell_type": "code",
   "execution_count": 109,
   "metadata": {},
   "outputs": [],
   "source": [
    "conn.close()\n"
   ]
  }
 ],
 "metadata": {
  "kernelspec": {
   "display_name": "env_project2",
   "language": "python",
   "name": "python3"
  },
  "language_info": {
   "codemirror_mode": {
    "name": "ipython",
    "version": 3
   },
   "file_extension": ".py",
   "mimetype": "text/x-python",
   "name": "python",
   "nbconvert_exporter": "python",
   "pygments_lexer": "ipython3",
   "version": "3.13.1"
  }
 },
 "nbformat": 4,
 "nbformat_minor": 2
}
